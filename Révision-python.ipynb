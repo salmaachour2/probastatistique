{
 "cells": [
  {
   "cell_type": "markdown",
   "id": "e94669b6",
   "metadata": {},
   "source": [
    "# dictionaire "
   ]
  },
  {
   "cell_type": "code",
   "execution_count": 6,
   "id": "dcfe31cf",
   "metadata": {},
   "outputs": [],
   "source": [
    "dic ={1:'a','fff':'b',3:'c'}"
   ]
  },
  {
   "cell_type": "code",
   "execution_count": 2,
   "id": "cb98e032",
   "metadata": {},
   "outputs": [
    {
     "data": {
      "text/plain": [
       "{1: 'a', 2: 'b', 3: 'c'}"
      ]
     },
     "execution_count": 2,
     "metadata": {},
     "output_type": "execute_result"
    }
   ],
   "source": [
    "dic"
   ]
  },
  {
   "cell_type": "code",
   "execution_count": 3,
   "id": "316a08cd",
   "metadata": {},
   "outputs": [],
   "source": [
    "L=['a','b','c']"
   ]
  },
  {
   "cell_type": "code",
   "execution_count": 4,
   "id": "4d55a0ba",
   "metadata": {},
   "outputs": [
    {
     "data": {
      "text/plain": [
       "'a'"
      ]
     },
     "execution_count": 4,
     "metadata": {},
     "output_type": "execute_result"
    }
   ],
   "source": [
    "L[0]"
   ]
  },
  {
   "cell_type": "code",
   "execution_count": 7,
   "id": "4448f6a6",
   "metadata": {},
   "outputs": [
    {
     "data": {
      "text/plain": [
       "'b'"
      ]
     },
     "execution_count": 7,
     "metadata": {},
     "output_type": "execute_result"
    }
   ],
   "source": [
    "dic['fff']"
   ]
  },
  {
   "cell_type": "markdown",
   "id": "b846faff",
   "metadata": {},
   "source": [
    "écrire une fonction comme prend comme input une chaine de caractère et qui renvois la même chaine avec la dernière lettre en majiscule \n"
   ]
  },
  {
   "cell_type": "code",
   "execution_count": 20,
   "id": "ff5ece15",
   "metadata": {},
   "outputs": [],
   "source": [
    "def last_upper(ch):\n",
    "    if len(ch)>1:\n",
    "        return ch[:-1]+ch[-1].upper()\n",
    "    else:\n",
    "        return ch.upper()\n",
    "    \n",
    "    "
   ]
  },
  {
   "cell_type": "code",
   "execution_count": 16,
   "id": "ccf148b2",
   "metadata": {},
   "outputs": [
    {
     "data": {
      "text/plain": [
       "''"
      ]
     },
     "execution_count": 16,
     "metadata": {},
     "output_type": "execute_result"
    }
   ],
   "source": [
    "ch='abc'\n",
    "\n",
    "last_upper('')"
   ]
  },
  {
   "cell_type": "code",
   "execution_count": 9,
   "id": "650bb494",
   "metadata": {},
   "outputs": [
    {
     "data": {
      "text/plain": [
       "'ABC'"
      ]
     },
     "execution_count": 9,
     "metadata": {},
     "output_type": "execute_result"
    }
   ],
   "source": [
    "ch.upper()"
   ]
  },
  {
   "cell_type": "code",
   "execution_count": 17,
   "id": "7c0f5d15",
   "metadata": {},
   "outputs": [],
   "source": [
    "LM=lambda ch: ch[:-1]+ch[-1] if len(ch)>1 else ch.upper()"
   ]
  },
  {
   "cell_type": "code",
   "execution_count": 38,
   "id": "ecb4985f",
   "metadata": {},
   "outputs": [],
   "source": [
    "M=['abc','math','prob','stat']"
   ]
  },
  {
   "cell_type": "code",
   "execution_count": 19,
   "id": "5e67864b",
   "metadata": {},
   "outputs": [
    {
     "name": "stdout",
     "output_type": "stream",
     "text": [
      "['abC', 'matH', 'proB', 'staT']\n"
     ]
    }
   ],
   "source": [
    "LL=[]\n",
    "for l in L:\n",
    "    LL.append(last_upper(l))\n",
    "print(LL)\n",
    "    "
   ]
  },
  {
   "cell_type": "code",
   "execution_count": 21,
   "id": "32d3ed98",
   "metadata": {},
   "outputs": [
    {
     "data": {
      "text/plain": [
       "['abC', 'matH', 'proB', 'staT']"
      ]
     },
     "execution_count": 21,
     "metadata": {},
     "output_type": "execute_result"
    }
   ],
   "source": [
    "[last_upper(l) for l in L]"
   ]
  },
  {
   "cell_type": "code",
   "execution_count": 22,
   "id": "7791b1e5",
   "metadata": {},
   "outputs": [],
   "source": [
    "# une liste qui contient les carré des nombre de 50 À 61"
   ]
  },
  {
   "cell_type": "code",
   "execution_count": 23,
   "id": "68f4e2f7",
   "metadata": {},
   "outputs": [
    {
     "data": {
      "text/plain": [
       "[2500, 2601, 2704, 2809, 2916, 3025, 3136, 3249, 3364, 3481, 3600, 3721]"
      ]
     },
     "execution_count": 23,
     "metadata": {},
     "output_type": "execute_result"
    }
   ],
   "source": [
    "[ x**2 for x in range(50,62)]"
   ]
  },
  {
   "cell_type": "code",
   "execution_count": 27,
   "id": "3b3990cf",
   "metadata": {},
   "outputs": [
    {
     "data": {
      "text/plain": [
       "['abC', 'matH', 'proB', 'staT']"
      ]
     },
     "execution_count": 27,
     "metadata": {},
     "output_type": "execute_result"
    }
   ],
   "source": [
    "list(map(last_upper,L))"
   ]
  },
  {
   "cell_type": "code",
   "execution_count": 28,
   "id": "55c421c8",
   "metadata": {},
   "outputs": [],
   "source": [
    "from functools import reduce \n"
   ]
  },
  {
   "cell_type": "code",
   "execution_count": 33,
   "id": "a2ecb41c",
   "metadata": {},
   "outputs": [],
   "source": [
    "List=[123,4,21,4,1234,3,432,1231]"
   ]
  },
  {
   "cell_type": "code",
   "execution_count": 34,
   "id": "751fb12d",
   "metadata": {},
   "outputs": [
    {
     "data": {
      "text/plain": [
       "3"
      ]
     },
     "execution_count": 34,
     "metadata": {},
     "output_type": "execute_result"
    }
   ],
   "source": [
    "min(List)"
   ]
  },
  {
   "cell_type": "code",
   "execution_count": 35,
   "id": "563d53b0",
   "metadata": {},
   "outputs": [
    {
     "name": "stdout",
     "output_type": "stream",
     "text": [
      "3\n"
     ]
    }
   ],
   "source": [
    "m=List[0]\n",
    "for l in List:\n",
    "    if l<m:\n",
    "        m=l\n",
    "print(m)"
   ]
  },
  {
   "cell_type": "code",
   "execution_count": 36,
   "id": "eb3cd409",
   "metadata": {},
   "outputs": [
    {
     "data": {
      "text/plain": [
       "3"
      ]
     },
     "execution_count": 36,
     "metadata": {},
     "output_type": "execute_result"
    }
   ],
   "source": [
    "reduce(lambda x,y:x if x<=y else y,List)"
   ]
  },
  {
   "cell_type": "code",
   "execution_count": 37,
   "id": "e0d332b2",
   "metadata": {},
   "outputs": [
    {
     "data": {
      "text/plain": [
       "3052"
      ]
     },
     "execution_count": 37,
     "metadata": {},
     "output_type": "execute_result"
    }
   ],
   "source": [
    "reduce(lambda x,y:x+y,List)"
   ]
  },
  {
   "cell_type": "code",
   "execution_count": 39,
   "id": "731645b4",
   "metadata": {},
   "outputs": [
    {
     "data": {
      "text/plain": [
       "['abc', 'math', 'prob', 'stat']"
      ]
     },
     "execution_count": 39,
     "metadata": {},
     "output_type": "execute_result"
    }
   ],
   "source": [
    "M"
   ]
  },
  {
   "cell_type": "code",
   "execution_count": 40,
   "id": "ff94e426",
   "metadata": {},
   "outputs": [
    {
     "data": {
      "text/plain": [
       "'abcmathprobstat'"
      ]
     },
     "execution_count": 40,
     "metadata": {},
     "output_type": "execute_result"
    }
   ],
   "source": [
    "reduce(lambda x,y:x+y,M)"
   ]
  },
  {
   "cell_type": "code",
   "execution_count": null,
   "id": "4fa4e031",
   "metadata": {},
   "outputs": [],
   "source": []
  }
 ],
 "metadata": {
  "kernelspec": {
   "display_name": "Python 3",
   "language": "python",
   "name": "python3"
  },
  "language_info": {
   "codemirror_mode": {
    "name": "ipython",
    "version": 3
   },
   "file_extension": ".py",
   "mimetype": "text/x-python",
   "name": "python",
   "nbconvert_exporter": "python",
   "pygments_lexer": "ipython3",
   "version": "3.8.8"
  }
 },
 "nbformat": 4,
 "nbformat_minor": 5
}
